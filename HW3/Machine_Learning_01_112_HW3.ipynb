{
  "nbformat": 4,
  "nbformat_minor": 0,
  "metadata": {
    "colab": {
      "name": "Machine Learning 01.112: HW3",
      "version": "0.3.2",
      "provenance": [],
      "include_colab_link": true
    },
    "kernelspec": {
      "name": "python3",
      "display_name": "Python 3"
    }
  },
  "cells": [
    {
      "cell_type": "markdown",
      "metadata": {
        "id": "view-in-github",
        "colab_type": "text"
      },
      "source": [
        "[View in Colaboratory](https://colab.research.google.com/github/charleswongzx/machine-learning-01.112/blob/master/HW3/Machine_Learning_01_112_HW3.ipynb)"
      ]
    },
    {
      "metadata": {
        "id": "uS56n5oGtztW",
        "colab_type": "text"
      },
      "cell_type": "markdown",
      "source": [
        "# 1. Matrix Factorisation"
      ]
    },
    {
      "metadata": {
        "id": "glcTKphmuabH",
        "colab_type": "code",
        "colab": {
          "base_uri": "https://localhost:8080/",
          "height": 224
        },
        "outputId": "b83d127d-56aa-4240-a9a2-033b95eddfd4"
      },
      "cell_type": "code",
      "source": [
        "import numpy as np\n",
        "\n",
        "def matrix_factorization(R, P, Q, K, steps=100000, alpha=0.0002, beta=0.02):\n",
        "  Q = Q.T\n",
        "  for step in range(steps):\n",
        "    for i in range(len(R)):\n",
        "      for j in range(len(R[i])):\n",
        "        if R[i][j] > -1: # Skip loss compute for missing values \n",
        "          eij = R[i][j] - np.dot(P[i,:],Q[:,j])\n",
        "          for k in range(K):\n",
        "            P[i][k] = P[i][k] + alpha * (2 * eij * Q[k][j] - beta * P[i][k])\n",
        "            Q[k][j] = Q[k][j] + alpha * (2 * eij * P[i][k] - beta * Q[k][j])\n",
        "    eR = np.dot(P,Q)\n",
        "    e = 0\n",
        "    for i in range(len(R)):\n",
        "      for j in range(len(R[i])):\n",
        "        if R[i][j] > -1: # Skip loss compute for missing values \n",
        "          e = e + pow(R[i][j] - np.dot(P[i,:],Q[:,j]), 2)\n",
        "          for k in range(K):\n",
        "            e = e + (beta/2) * ( pow(P[i][k],2) + pow(Q[k][j],2) )\n",
        "\n",
        "  return P, Q.T\n",
        "\n",
        "# Incomplete entries are denoted by -1's\n",
        "R = np.array([[0,1,-1],\n",
        "              [1,-1,1],\n",
        "              [-1,1,2]])\n",
        "\n",
        "N = len(R)\n",
        "M = len(R[0])\n",
        "K = 1\n",
        "\n",
        "P = np.random.rand(N,K)\n",
        "Q = np.random.rand(M,K)\n",
        "\n",
        "U, V = matrix_factorization(R, P, Q, K)\n",
        "\n",
        "print ('Part A: [A]\\n{}'.format(np.dot(U,V.T)))\n",
        "print ('Part B: [U]\\n{}'.format(U))\n",
        "print ('Part C: [V]\\n{}'.format(V))"
      ],
      "execution_count": 25,
      "outputs": [
        {
          "output_type": "stream",
          "text": [
            "Part A: [A]\n",
            "[[0.47940034 0.60332552 0.94402665]\n",
            " [0.60352458 0.75953594 1.18844992]\n",
            " [0.94437244 1.18849311 1.85964148]]\n",
            "Part B: [U]\n",
            "[[0.69116667]\n",
            " [0.87012053]\n",
            " [1.3615317 ]]\n",
            "Part C: [V]\n",
            "[[0.69361032]\n",
            " [0.87290888]\n",
            " [1.36584516]]\n"
          ],
          "name": "stdout"
        }
      ]
    },
    {
      "metadata": {
        "id": "jTGFgJl_vGO7",
        "colab_type": "text"
      },
      "cell_type": "markdown",
      "source": [
        "# 2. Support Vector Machines"
      ]
    },
    {
      "metadata": {
        "id": "go6EdP2gt_F4",
        "colab_type": "code",
        "colab": {
          "base_uri": "https://localhost:8080/",
          "height": 265
        },
        "outputId": "e67ccd1d-db4d-4698-badf-41ef5ac9b2e2"
      },
      "cell_type": "code",
      "source": [
        "%matplotlib inline\n",
        "import numpy as np\n",
        "import matplotlib.pyplot as plt\n",
        "csv = 'https://www.dropbox.com/s/wt45tvn9ig3o7vu/kernel.csv?dl=1'\n",
        "data = np.genfromtxt(csv,delimiter=',')\n",
        "X = data[:,1:]\n",
        "Y = data[:,0]\n",
        "plt.scatter(X[:,0],X[:,1],c=Y)\n",
        "plt.show()\n",
        "\n"
      ],
      "execution_count": 7,
      "outputs": [
        {
          "output_type": "display_data",
          "data": {
            "image/png": "[encoded data removed]",
            "text/plain": [
              "<matplotlib.figure.Figure at 0x7fe2e9e4be48>"
            ]
          },
          "metadata": {
            "tags": []
          }
        }
      ]
    },
    {
      "metadata": {
        "id": "mXmkblh0weex",
        "colab_type": "text"
      },
      "cell_type": "markdown",
      "source": [
        "**\n",
        "(a) Use the sklearn.svm.SVC module in the Python scikit-learn package to train a\n",
        "kernel support vector machine via the radial basis kernel. Remember to set gamma\n",
        "to 0.5 and kernel to rbf when initializing the object**"
      ]
    },
    {
      "metadata": {
        "id": "tFVBPFoyvQqb",
        "colab_type": "code",
        "colab": {}
      },
      "cell_type": "code",
      "source": [
        "from sklearn.svm import SVC\n",
        "\n",
        "clf = SVC(gamma=0.5, kernel='rbf').fit(X, Y)"
      ],
      "execution_count": 0,
      "outputs": []
    },
    {
      "metadata": {
        "id": "JxKdetgOwixp",
        "colab_type": "text"
      },
      "cell_type": "markdown",
      "source": [
        "**\n",
        "(b) Evaluate the kernel SVM’s decision function. You may use the decision function\n",
        "method in sklearn.svm.SVC. You should write a function that takes coordinates\n",
        "x1, x2 of a point x ∈ R\n",
        "2 and the trained sklearn.svm.SVC object clf, and return\n",
        "the R-valued output of the decision function.**"
      ]
    },
    {
      "metadata": {
        "id": "CVtf1VUBv50f",
        "colab_type": "code",
        "colab": {}
      },
      "cell_type": "code",
      "source": [
        "def decision(x1, x2, clf):\n",
        "  x = np.array([x1,x2]).reshape(1, -1)\n",
        "  return clf.decision_function(x)"
      ],
      "execution_count": 0,
      "outputs": []
    },
    {
      "metadata": {
        "id": "E2iKb9ABxREy",
        "colab_type": "text"
      },
      "cell_type": "markdown",
      "source": [
        "**(c) Use the following code to visualize the classifier and the data points.**"
      ]
    },
    {
      "metadata": {
        "id": "322glWCzxWAt",
        "colab_type": "code",
        "colab": {
          "base_uri": "https://localhost:8080/",
          "height": 268
        },
        "outputId": "cb429436-ad71-4fb2-906c-6c091aa874e8"
      },
      "cell_type": "code",
      "source": [
        "vdecision = np.vectorize(decision,excluded=[2])\n",
        "x1list = np.linspace(-8.0,8.0,100)\n",
        "x2list = np.linspace(-8.0,8.0,100)\n",
        "X1, X2 = np.meshgrid(x1list,x2list)\n",
        "Z = vdecision(X1,X2,clf)\n",
        "cp = plt.contourf(X1,X2,Z)\n",
        "plt.colorbar(cp)\n",
        "plt.scatter(X[:,0],X[:,1],c=Y,cmap='gray')\n",
        "plt.show()"
      ],
      "execution_count": 10,
      "outputs": [
        {
          "output_type": "display_data",
          "data": {
            "image/png": "[encoded data removed]",
            "text/plain": [
              "<matplotlib.figure.Figure at 0x7fe2c355da20>"
            ]
          },
          "metadata": {
            "tags": []
          }
        }
      ]
    },
    {
      "metadata": {
        "id": "jZwvy92yzp0C",
        "colab_type": "text"
      },
      "cell_type": "markdown",
      "source": [
        "# 3. Deep Learning"
      ]
    },
    {
      "metadata": {
        "id": "VxuZu9gexY3k",
        "colab_type": "code",
        "colab": {
          "resources": {
            "http://localhost:8080/nbextensions/google.colab/files.js": {
              "data": "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",
              "ok": true,
              "headers": [
                [
                  "content-type",
                  "application/javascript"
                ]
              ],
              "status": 200,
              "status_text": ""
            }
          },
          "base_uri": "https://localhost:8080/",
          "height": 107
        },
        "outputId": "f75fb5f8-232d-49cd-c200-04c9033ce4f2"
      },
      "cell_type": "code",
      "source": [
        "%matplotlib inline\n",
        "import numpy as np\n",
        "from numpy.linalg import norm\n",
        "import matplotlib.pyplot as plt\n",
        "from google.colab import files\n",
        "\n",
        "stuff = files.upload()"
      ],
      "execution_count": 13,
      "outputs": [
        {
          "output_type": "display_data",
          "data": {
            "text/html": [
              "\n",
              "     <input type=\"file\" id=\"files-194c9a53-3bc0-44c4-a737-685e249d9d5d\" name=\"files[]\" multiple disabled />\n",
              "     <output id=\"result-194c9a53-3bc0-44c4-a737-685e249d9d5d\">\n",
              "      Upload widget is only available when the cell has been executed in the\n",
              "      current browser session. Please rerun this cell to enable.\n",
              "      </output>\n",
              "      <script src=\"/nbextensions/google.colab/files.js\"></script> "
            ],
            "text/plain": [
              "<IPython.core.display.HTML object>"
            ]
          },
          "metadata": {
            "tags": []
          }
        },
        {
          "output_type": "stream",
          "text": [
            "Saving images.npy to images.npy\n",
            "Saving utils.py to utils.py\n"
          ],
          "name": "stdout"
        }
      ]
    },
    {
      "metadata": {
        "id": "OjnAzu7Uzw4p",
        "colab_type": "code",
        "colab": {
          "base_uri": "https://localhost:8080/",
          "height": 267
        },
        "outputId": "55b9f48f-7e51-49a7-ebb7-1a672701c7ca"
      },
      "cell_type": "code",
      "source": [
        "from scipy.optimize import fmin_l_bfgs_b as minimize\n",
        "from utils import normalize, tile_raster_images, sigmoid\n",
        "from utils import ravelParameters, unravelParameters\n",
        "from utils import initializeParameters\n",
        "from utils import computeNumericalGradient\n",
        "nV = 8*8 # number of visible units\n",
        "nH = 25 # number of hidden units\n",
        "dW = 0.0001 # weight decay term\n",
        "sW = 3 # sparsity penalty term\n",
        "npy = 'images.npy'\n",
        "X = normalize(np.load(npy))\n",
        "plt.imshow(tile_raster_images(X=X,\n",
        "img_shape=(8,8),tile_shape=(5,5),\n",
        "tile_spacing=(1,1)),cmap='gray')\n",
        "plt.show()"
      ],
      "execution_count": 14,
      "outputs": [
        {
          "output_type": "display_data",
          "data": {
            "image/png": "[encoded data removed]",
            "text/plain": [
              "<matplotlib.figure.Figure at 0x7fe2c3588a90>"
            ]
          },
          "metadata": {
            "tags": []
          }
        }
      ]
    },
    {
      "metadata": {
        "id": "mJRV5NUXDbuf",
        "colab_type": "text"
      },
      "cell_type": "markdown",
      "source": [
        "**3a.**"
      ]
    },
    {
      "metadata": {
        "id": "-rOfJVgn0dR8",
        "colab_type": "code",
        "colab": {
          "base_uri": "https://localhost:8080/",
          "height": 34
        },
        "outputId": "66b3be0f-bb2d-4e6d-8905-a38b747589ff"
      },
      "cell_type": "code",
      "source": [
        "def sparseAutoencoderCost(theta,nV,nH,dW,sW,X):\n",
        "  W1,W2,b1,b2 = unravelParameters(theta,nH,nV)\n",
        "  n = X.shape[0]\n",
        "  z2 = np.add(np.matmul(X, W1), np.matmul(np.ones((n,1)), b1.T))\n",
        "  a2 = sigmoid(z2)\n",
        "\n",
        "  z3 = np.add(np.matmul(a2, W2), np.matmul(np.ones((n,1)), b2.T))\n",
        "  a3 = sigmoid(z3)\n",
        "  eps = a3-X\n",
        "  loss = np.sum(eps**2)/(2*n)\n",
        "  decay = (np.sum(W1**2) + np.sum(W2**2))/2\n",
        "\n",
        "  # Compute sparsity terms and total cost\n",
        "  rho = 0.01\n",
        "  a2mean = np.mean(a2,axis=0).reshape(nH,1)\n",
        "  kl = np.sum(rho*np.log(rho/a2mean)+\\\n",
        "  (1-rho)*np.log((1-rho)/(1-a2mean)))\n",
        "  dkl = -rho/a2mean+(1-rho)/(1-a2mean)\n",
        "  cost = loss+dW*decay+sW*kl\n",
        "  d3 = eps*a3*(1-a3)\n",
        "  d2 = (sW*dkl.T+np.dot(d3,W2.T))*a2*(1-a2)\n",
        "  W1grad = np.add(np.matmul(X.T, d2)/n, dW*W1)\n",
        "  W2grad = np.add(np.matmul(a2.T, d3)/n, dW*W2)\n",
        "  b1grad = np.matmul(d2.T, np.ones((n, 1)))/n\n",
        "  b2grad = np.matmul(d3.T, np.ones((n, 1)))/n\n",
        "\n",
        "  grad = ravelParameters(W1grad,W2grad,b1grad,b2grad)\n",
        "  print(' .',end=\"\")\n",
        "  return cost,grad\n",
        "\n",
        "theta = initializeParameters(nH,nV)\n",
        "cost,grad = sparseAutoencoderCost(theta,nV,nH,dW,sW,X)"
      ],
      "execution_count": 18,
      "outputs": [
        {
          "output_type": "stream",
          "text": [
            " ."
          ],
          "name": "stdout"
        }
      ]
    },
    {
      "metadata": {
        "id": "XH-823txtlk_",
        "colab_type": "text"
      },
      "cell_type": "markdown",
      "source": [
        "**3b.**"
      ]
    },
    {
      "metadata": {
        "id": "b1du0ouFtmpX",
        "colab_type": "code",
        "colab": {
          "base_uri": "https://localhost:8080/",
          "height": 172
        },
        "outputId": "b9729792-8a33-41b4-f151-f8b8ddfa4485"
      },
      "cell_type": "code",
      "source": [
        "print('\\nComparing numerical gradient with backprop gradient')\n",
        "num_coords = 5\n",
        "indices = np.random.choice(theta.size,num_coords,replace=False)\n",
        "numgrad = computeNumericalGradient(lambda t: sparseAutoencoderCost(t,nV,nH,dW,sW,X)[0],theta,indices)\n",
        "subnumgrad = numgrad[indices]\n",
        "subgrad = grad[indices]\n",
        "diff = norm(subnumgrad-subgrad)/norm(subnumgrad+subgrad)\n",
        "print('\\n',np.array([subnumgrad,subgrad]).T)\n",
        "print('The relative difference is',diff)"
      ],
      "execution_count": 19,
      "outputs": [
        {
          "output_type": "stream",
          "text": [
            "\n",
            "Comparing numerical gradient with backprop gradient\n",
            " . . . . . . . . . .\n",
            " [[1.19109963e-02 1.19109963e-02]\n",
            " [1.32910348e-02 1.32910347e-02]\n",
            " [7.08213563e-01 7.08213563e-01]\n",
            " [1.07416577e+00 1.07416577e+00]\n",
            " [3.10076587e-04 3.10076565e-04]]\n",
            "The relative difference is 9.372086045356316e-11\n"
          ],
          "name": "stdout"
        }
      ]
    },
    {
      "metadata": {
        "id": "Jey4D0XnttzA",
        "colab_type": "text"
      },
      "cell_type": "markdown",
      "source": [
        "**3c.**"
      ]
    },
    {
      "metadata": {
        "id": "94INrmAutuww",
        "colab_type": "code",
        "colab": {
          "base_uri": "https://localhost:8080/",
          "height": 338
        },
        "outputId": "f1b6fbca-16f0-409d-86b9-bf4209b97cf9"
      },
      "cell_type": "code",
      "source": [
        "print('\\nTraining neural network')\n",
        "theta = initializeParameters(nH,nV)\n",
        "opttheta,cost,messages = minimize(sparseAutoencoderCost,\n",
        "theta,fprime=None,maxiter=400,args=(nV,nH,dW,sW,X))\n",
        "W1,W2,b1,b2 = unravelParameters(opttheta,nH,nV)\n",
        "plt.imshow(tile_raster_images(X=W1.T,\n",
        "img_shape=(8,8),tile_shape=(5,5),\n",
        "tile_spacing=(1,1)),cmap='gray')\n",
        "plt.show()"
      ],
      "execution_count": 17,
      "outputs": [
        {
          "output_type": "stream",
          "text": [
            "\n",
            "Training neural network\n",
            " . . . . . . . . . . . . . . . . . . . . . . . . . . . . . . . . . . . . . . . . . . . . . . . . . . . . . . . . . . . . . . . . . . . . . . . . . . . . . . . . . . . . . . . . . . . . . . . . . . . . . . . . . . . . . . . . . . . . . . . . . . . . . . . . . . . . . . . . . . . . . . . . . . . . . . . . . . . . . . . . . . . . . . . . . . . . . . . . . . . . . . . . . . . . . . . . . . . . . . . . . . . . . . . . . . . . . . . . . . . . . . . . . . . . . . . . . . . . . . . . . . . . . . . . . . . . . . . . . . . . . . . . . . . . . . . . . . . . . . . . . . . . . . . . . . . . . . . . . . . . . . . . . . . . . . . . . . . . . . . . . . . . . . . . . . . . . . . . . . . . . . . . . . . . . . . . . . . . . . . . . . . . . . . . . . . . . . . . . . . . . . . . . . . . . . . . . . . . . . . . . . . . . . . . . . . . . . ."
          ],
          "name": "stdout"
        },
        {
          "output_type": "display_data",
          "data": {
            "image/png": "[encoded data removed]",
            "text/plain": [
              "<matplotlib.figure.Figure at 0x7fe2c13fb7b8>"
            ]
          },
          "metadata": {
            "tags": []
          }
        }
      ]
    },
    {
      "metadata": {
        "id": "xaZvlJE6xddl",
        "colab_type": "text"
      },
      "cell_type": "markdown",
      "source": [
        "# 4. Proof of Two Equations"
      ]
    },
    {
      "metadata": {
        "id": "yz7N0Vl1B5Fv",
        "colab_type": "text"
      },
      "cell_type": "markdown",
      "source": [
        "![4a](https://github.com/charleswongzx/machine-learning-01.112/blob/master/HW3/photo6240041496711637048.jpg?raw=true)"
      ]
    },
    {
      "metadata": {
        "id": "6g-GHAtoCV5C",
        "colab_type": "text"
      },
      "cell_type": "markdown",
      "source": [
        "It does matter. While the frequency is normalised, the frequency of occurrence of a word n in both corpuses is different and will affect θ^w."
      ]
    },
    {
      "metadata": {
        "id": "TNClR_HhCPu9",
        "colab_type": "text"
      },
      "cell_type": "markdown",
      "source": [
        "![4b](https://github.com/charleswongzx/machine-learning-01.112/blob/master/HW3/photo6240238536926275608.jpg?raw=true)"
      ]
    },
    {
      "metadata": {
        "id": "s3n67gG_CNvW",
        "colab_type": "code",
        "colab": {}
      },
      "cell_type": "code",
      "source": [
        ""
      ],
      "execution_count": 0,
      "outputs": []
    }
  ]
}